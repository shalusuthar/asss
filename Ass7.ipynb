{
 "cells": [
  {
   "cell_type": "markdown",
   "id": "e48e4a57-7b9e-46a3-95e0-8584084fc890",
   "metadata": {},
   "source": [
    "Q1. What is Abstraction in OOps? Explain with an example.\n",
    "\n",
    "Ans.Abstraction in python is defined as a process of handling complexity by hiding unnecessary information from the user. This is one of the core concepts of object-oriented programming (OOP) languages. That enables the user to implement even more complex logic on top of the provided abstraction without understanding or even thinking about all the hidden background/back-end complexity.\n",
    "\n",
    "Example :- Baking a cake. If you are following a recipe to bake a cake, you are using abstraction. In this example, you're following only the necessary steps to prepare and bake the batter."
   ]
  },
  {
   "cell_type": "code",
   "execution_count": null,
   "id": "7fa84565-9583-4caf-b191-71e2edc1c190",
   "metadata": {},
   "outputs": [],
   "source": []
  },
  {
   "cell_type": "markdown",
   "id": "c76baab6-ce86-45d6-b505-d14099cc8ba7",
   "metadata": {},
   "source": [
    "Q2. Differentiate between Abstraction and Encapsulation. Explain with an example."
   ]
  },
  {
   "cell_type": "markdown",
   "id": "21e0e618-294a-4c37-814c-6e38b006fbfb",
   "metadata": {},
   "source": [
    "Ans. Abstraction is a process of hiding the implementation details of a system from the user, and only the functional details will be available to the user end. On the other hand, Encapsulation is a method of wrapping up the data and code acting on the data into a single unit.\n",
    "\n",
    "Abstraction :-\n",
    "Abstraction is defined as a process of hiding the implementation details of a system from the user. Thus, by using abstraction, we provided only the functionality of the system to the user. Consequently, the user will have information on what the system does, but not on how the system does it.\n",
    "\n",
    "For example, when we consider the case of a search on google, complex details such as what happens as soon as we search about a query, the protocol our web server uses are hidden. Therefore, to make a search on google we just need to type the query, and click on the search button.\n",
    "\n",
    "Encapsulation:-\n",
    "Encapsulation is one of the fundamental OOP concepts. Encapsulation is defined as a method by which data wrapping is done into a single unit. It is used in wrapping up the data and the code acting on the data together as a single unit.\n",
    "\n",
    "In encapsulation, the variables of a class are hidden from other classes, and can be accessed only by methods of the current class. Therefore, encapsulation is also called data hiding. Encapsulation is implemented using access modifiers like public, private and protected.Consider a real-life example of encapsulation, in a company, there are different sections like the accounts section, finance section, sales section etc. The finance section handles all the financial transactions and keeps records of all the data related to finance. Similarly, the sales section handles all the sales-related activities and keeps records of all the sales. Now there may arise a situation when due to some reason an official from the finance section needs all the data about sales in a particular month. In this case, he is not allowed to directly access the data of the sales section. He will first have to contact some other officer in the sales section and then request him to give the particular data. \n",
    "\n",
    "Example:- Consider a real-life example of encapsulation, in a company, there are different sections like the accounts section, finance section, sales section etc. The finance section handles all the financial transactions and keeps records of all the data related to finance. Similarly, the sales section handles all the sales-related activities and keeps records of all the sales. Now there may arise a situation when due to some reason an official from the finance section needs all the data about sales in a particular month. In this case, he is not allowed to directly access the data of the sales section. He will first have to contact some other officer in the sales section and then request him to give the particular data. "
   ]
  },
  {
   "cell_type": "code",
   "execution_count": null,
   "id": "cd2a88a1-5023-465c-abd4-a085d1ff39b7",
   "metadata": {},
   "outputs": [],
   "source": []
  },
  {
   "cell_type": "markdown",
   "id": "a6f40ea4-8281-4831-859e-40ea7f97ba3f",
   "metadata": {},
   "source": [
    "Q3. What is abc module in python? Why is it used\n",
    "\n",
    "Ans.Python has a module called abc (abstract base class) that offers the necessary tools for crafting an abstract base class. First and foremost, you should understand the ABCMeta metaclass provided by the abstract base class. The rule is every abstract class must use ABCMeta metaclass.\n",
    "\n",
    "The 'abc' module in Python library provides the infrastructure for defining custom abstract base classes. 'abc' works by marking methods of the base class as abstract. This is done by @absttractmethod decorator."
   ]
  },
  {
   "cell_type": "code",
   "execution_count": null,
   "id": "ba3f1759-ce66-420e-85ff-c312f2a9f6f9",
   "metadata": {},
   "outputs": [],
   "source": []
  },
  {
   "cell_type": "markdown",
   "id": "98106a1c-f23c-47fd-a71e-bf8d2717393f",
   "metadata": {},
   "source": [
    "Q4. How can we achieve data abstraction?\n",
    "\n",
    "Ans.Data Abstraction in Python can be achieved through creating abstract classes and inheriting them later. Before discussing what abstract classes are, let us have a brief introduction of inheritance. Inheritance in OOP is a way through which one class inherits the attributes and methods of another class."
   ]
  },
  {
   "cell_type": "code",
   "execution_count": null,
   "id": "cdea708c-948d-4295-9f7c-4b91b878bed5",
   "metadata": {},
   "outputs": [],
   "source": []
  },
  {
   "cell_type": "markdown",
   "id": "d9c323b4-13e1-4ed2-a7ac-c9e99abc1ff3",
   "metadata": {},
   "source": [
    "Q5. Can we create an instance of an abstract class? Explain your answer.\n",
    "\n",
    "Ans.Abstract classes cannot be instantiated, but they can be subclassed. When an abstract class is subclassed, the subclass usually provides implementations for all of the abstract methods in its parent class. However, if it does not, then the subclass must also be declared abstract."
   ]
  }
 ],
 "metadata": {
  "kernelspec": {
   "display_name": "Python 3 (ipykernel)",
   "language": "python",
   "name": "python3"
  },
  "language_info": {
   "codemirror_mode": {
    "name": "ipython",
    "version": 3
   },
   "file_extension": ".py",
   "mimetype": "text/x-python",
   "name": "python",
   "nbconvert_exporter": "python",
   "pygments_lexer": "ipython3",
   "version": "3.10.8"
  }
 },
 "nbformat": 4,
 "nbformat_minor": 5
}
